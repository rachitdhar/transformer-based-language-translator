{
 "cells": [
  {
   "cell_type": "code",
   "execution_count": 1,
   "id": "vietnamese-metropolitan",
   "metadata": {
    "execution": {
     "iopub.execute_input": "2021-06-11T11:09:11.198853Z",
     "iopub.status.busy": "2021-06-11T11:09:11.198327Z",
     "iopub.status.idle": "2021-06-11T11:09:16.784685Z",
     "shell.execute_reply": "2021-06-11T11:09:16.784066Z",
     "shell.execute_reply.started": "2021-06-11T10:59:45.404667Z"
    },
    "papermill": {
     "duration": 5.620545,
     "end_time": "2021-06-11T11:09:16.784845",
     "exception": false,
     "start_time": "2021-06-11T11:09:11.164300",
     "status": "completed"
    },
    "tags": []
   },
   "outputs": [],
   "source": [
    "import numpy as np\n",
    "import matplotlib.pyplot as plt\n",
    "import seaborn as sns\n",
    "import pandas as pd\n",
    "from collections import defaultdict\n",
    "import string\n",
    "import tensorflow as tf\n",
    "import re\n",
    "import os\n",
    "import time\n",
    "from tensorflow import keras\n",
    "from tensorflow.keras.layers import Dense, Input\n",
    "from tensorflow.keras.optimizers import Adam\n",
    "from tensorflow.keras.models import Model\n",
    "from tensorflow.keras.callbacks import ModelCheckpoint\n",
    "from sklearn.preprocessing import OneHotEncoder\n",
    "from sklearn.model_selection import train_test_split"
   ]
  },
  {
   "cell_type": "code",
   "execution_count": 2,
   "id": "nearby-collect",
   "metadata": {
    "execution": {
     "iopub.execute_input": "2021-06-11T11:09:16.836999Z",
     "iopub.status.busy": "2021-06-11T11:09:16.836232Z",
     "iopub.status.idle": "2021-06-11T11:09:16.838849Z",
     "shell.execute_reply": "2021-06-11T11:09:16.838418Z",
     "shell.execute_reply.started": "2021-06-11T10:59:52.136092Z"
    },
    "papermill": {
     "duration": 0.030044,
     "end_time": "2021-06-11T11:09:16.838959",
     "exception": false,
     "start_time": "2021-06-11T11:09:16.808915",
     "status": "completed"
    },
    "tags": []
   },
   "outputs": [],
   "source": [
    "ENCODER_LEN = 100\n",
    "DECODER_LEN = 100\n",
    "BATCH_SIZE = 64\n",
    "BUFFER_SIZE = BATCH_SIZE*4"
   ]
  },
  {
   "cell_type": "markdown",
   "id": "abstract-miller",
   "metadata": {
    "papermill": {
     "duration": 0.023084,
     "end_time": "2021-06-11T11:09:16.885283",
     "exception": false,
     "start_time": "2021-06-11T11:09:16.862199",
     "status": "completed"
    },
    "tags": []
   },
   "source": [
    "# Dataset\n",
    "\n",
    "Filtered and removed sentences that contain very few characters or several of them to inprove model performance.\n",
    "Sentences in both english and hindi are then tokenized and padded to fix length"
   ]
  },
  {
   "cell_type": "code",
   "execution_count": 3,
   "id": "sexual-wireless",
   "metadata": {
    "execution": {
     "iopub.execute_input": "2021-06-11T11:09:16.943407Z",
     "iopub.status.busy": "2021-06-11T11:09:16.942892Z",
     "iopub.status.idle": "2021-06-11T11:09:18.014998Z",
     "shell.execute_reply": "2021-06-11T11:09:18.015372Z",
     "shell.execute_reply.started": "2021-06-11T10:59:52.142010Z"
    },
    "papermill": {
     "duration": 1.1068,
     "end_time": "2021-06-11T11:09:18.015536",
     "exception": false,
     "start_time": "2021-06-11T11:09:16.908736",
     "status": "completed"
    },
    "tags": []
   },
   "outputs": [
    {
     "data": {
      "text/html": [
       "<div>\n",
       "<style scoped>\n",
       "    .dataframe tbody tr th:only-of-type {\n",
       "        vertical-align: middle;\n",
       "    }\n",
       "\n",
       "    .dataframe tbody tr th {\n",
       "        vertical-align: top;\n",
       "    }\n",
       "\n",
       "    .dataframe thead th {\n",
       "        text-align: right;\n",
       "    }\n",
       "</style>\n",
       "<table border=\"1\" class=\"dataframe\">\n",
       "  <thead>\n",
       "    <tr style=\"text-align: right;\">\n",
       "      <th></th>\n",
       "      <th>english_sentence</th>\n",
       "      <th>hindi_sentence</th>\n",
       "    </tr>\n",
       "  </thead>\n",
       "  <tbody>\n",
       "    <tr>\n",
       "      <th>63241</th>\n",
       "      <td>Indian News Service - National News Agency</td>\n",
       "      <td>इण्डियन न्यूज सर्विस - राष्ट्रीय समाचार एजेंसी</td>\n",
       "    </tr>\n",
       "    <tr>\n",
       "      <th>81404</th>\n",
       "      <td>In West Bengal , it seems set to eat humble pi...</td>\n",
       "      <td>पश्चिम बंगाल में तो वह अपमान का घूंट पीने को भ...</td>\n",
       "    </tr>\n",
       "    <tr>\n",
       "      <th>8803</th>\n",
       "      <td>One american dollar is equal to 60 pakistani r...</td>\n",
       "      <td>एक अमरीकी डालर की कीमत लगभग ६० पाकिस्तानी रुपय...</td>\n",
       "    </tr>\n",
       "    <tr>\n",
       "      <th>73434</th>\n",
       "      <td>but between those high highs,</td>\n",
       "      <td>लेकिन इन बेहतरीन लम्हों के बीच</td>\n",
       "    </tr>\n",
       "    <tr>\n",
       "      <th>65711</th>\n",
       "      <td>Every other politician went along because when...</td>\n",
       "      <td>और वजह यह थी कि आर्थिक मामलं पर हमेशा विफल विच...</td>\n",
       "    </tr>\n",
       "  </tbody>\n",
       "</table>\n",
       "</div>"
      ],
      "text/plain": [
       "                                        english_sentence  \\\n",
       "63241         Indian News Service - National News Agency   \n",
       "81404  In West Bengal , it seems set to eat humble pi...   \n",
       "8803   One american dollar is equal to 60 pakistani r...   \n",
       "73434                      but between those high highs,   \n",
       "65711  Every other politician went along because when...   \n",
       "\n",
       "                                          hindi_sentence  \n",
       "63241     इण्डियन न्यूज सर्विस - राष्ट्रीय समाचार एजेंसी  \n",
       "81404  पश्चिम बंगाल में तो वह अपमान का घूंट पीने को भ...  \n",
       "8803   एक अमरीकी डालर की कीमत लगभग ६० पाकिस्तानी रुपय...  \n",
       "73434                     लेकिन इन बेहतरीन लम्हों के बीच  \n",
       "65711  और वजह यह थी कि आर्थिक मामलं पर हमेशा विफल विच...  "
      ]
     },
     "execution_count": 3,
     "metadata": {},
     "output_type": "execute_result"
    }
   ],
   "source": [
    "train_df = pd.read_csv(\"./datasets/Hindi_English_Truncated_Corpus.csv\")\n",
    "train_df.drop(['source'],axis=1,inplace=True)\n",
    "mask = (train_df['english_sentence'].str.len()>20) & (train_df['english_sentence'].str.len()<200)\n",
    "train_df = train_df.loc[mask]\n",
    "train_df = train_df.sample(64000, random_state=1)\n",
    "train_df.head()"
   ]
  },
  {
   "cell_type": "code",
   "execution_count": 4,
   "id": "informative-fifty",
   "metadata": {
    "execution": {
     "iopub.execute_input": "2021-06-11T11:09:18.068568Z",
     "iopub.status.busy": "2021-06-11T11:09:18.067983Z",
     "iopub.status.idle": "2021-06-11T11:09:18.071929Z",
     "shell.execute_reply": "2021-06-11T11:09:18.071528Z",
     "shell.execute_reply.started": "2021-06-11T11:06:00.848340Z"
    },
    "papermill": {
     "duration": 0.031661,
     "end_time": "2021-06-11T11:09:18.072038",
     "exception": false,
     "start_time": "2021-06-11T11:09:18.040377",
     "status": "completed"
    },
    "tags": []
   },
   "outputs": [],
   "source": [
    "pd.set_option('display.max_colwidth', None)"
   ]
  },
  {
   "cell_type": "code",
   "execution_count": 5,
   "id": "adjusted-couple",
   "metadata": {
    "execution": {
     "iopub.execute_input": "2021-06-11T11:09:18.150638Z",
     "iopub.status.busy": "2021-06-11T11:09:18.125003Z",
     "iopub.status.idle": "2021-06-11T11:09:18.209533Z",
     "shell.execute_reply": "2021-06-11T11:09:18.209054Z",
     "shell.execute_reply.started": "2021-06-11T11:03:16.520575Z"
    },
    "papermill": {
     "duration": 0.113519,
     "end_time": "2021-06-11T11:09:18.209660",
     "exception": false,
     "start_time": "2021-06-11T11:09:18.096141",
     "status": "completed"
    },
    "tags": []
   },
   "outputs": [],
   "source": [
    "eng = train_df['english_sentence']\n",
    "hind = train_df['hindi_sentence']\n",
    "eng = eng.apply(lambda x: \"<SOS> \" + str(x) + \" <EOS>\")\n",
    "hind = hind.apply(lambda x: \"<SOS> \"+ x + \" <EOS>\")"
   ]
  },
  {
   "cell_type": "code",
   "execution_count": 6,
   "id": "chronic-label",
   "metadata": {
    "execution": {
     "iopub.execute_input": "2021-06-11T11:09:18.301381Z",
     "iopub.status.busy": "2021-06-11T11:09:18.286011Z",
     "iopub.status.idle": "2021-06-11T11:09:23.770980Z",
     "shell.execute_reply": "2021-06-11T11:09:23.771375Z",
     "shell.execute_reply.started": "2021-06-10T14:09:25.801253Z"
    },
    "papermill": {
     "duration": 5.537671,
     "end_time": "2021-06-11T11:09:23.771571",
     "exception": false,
     "start_time": "2021-06-11T11:09:18.233900",
     "status": "completed"
    },
    "tags": []
   },
   "outputs": [],
   "source": [
    "filters = '!\"#$%&()*+,-./:;=?@[\\\\]^_`{|}~\\t\\n'\n",
    "oov_token = '<unk>'\n",
    "eng_tokenizer = tf.keras.preprocessing.text.Tokenizer(filters = filters, oov_token=oov_token)\n",
    "hind_tokenizer = tf.keras.preprocessing.text.Tokenizer(filters = filters, oov_token=oov_token)\n",
    "eng_tokenizer.fit_on_texts(eng)\n",
    "hind_tokenizer.fit_on_texts(hind)\n",
    "inputs = eng_tokenizer.texts_to_sequences(eng)\n",
    "targets = hind_tokenizer.texts_to_sequences(hind)"
   ]
  },
  {
   "cell_type": "code",
   "execution_count": 7,
   "id": "swiss-stroke",
   "metadata": {
    "execution": {
     "iopub.execute_input": "2021-06-11T11:09:23.825753Z",
     "iopub.status.busy": "2021-06-11T11:09:23.825084Z",
     "iopub.status.idle": "2021-06-11T11:09:23.828311Z",
     "shell.execute_reply": "2021-06-11T11:09:23.828921Z",
     "shell.execute_reply.started": "2021-06-10T14:09:34.074957Z"
    },
    "papermill": {
     "duration": 0.031758,
     "end_time": "2021-06-11T11:09:23.829096",
     "exception": false,
     "start_time": "2021-06-11T11:09:23.797338",
     "status": "completed"
    },
    "tags": []
   },
   "outputs": [
    {
     "name": "stdout",
     "output_type": "stream",
     "text": [
      "44305 51960\n"
     ]
    }
   ],
   "source": [
    "ENCODER_VOCAB = len(eng_tokenizer.word_index) + 1\n",
    "DECODER_VOCAB = len(hind_tokenizer.word_index) + 1\n",
    "print(ENCODER_VOCAB, DECODER_VOCAB)"
   ]
  },
  {
   "cell_type": "code",
   "execution_count": 8,
   "id": "remarkable-accreditation",
   "metadata": {
    "execution": {
     "iopub.execute_input": "2021-06-11T11:09:23.891817Z",
     "iopub.status.busy": "2021-06-11T11:09:23.890786Z",
     "iopub.status.idle": "2021-06-11T11:09:26.969379Z",
     "shell.execute_reply": "2021-06-11T11:09:26.968805Z",
     "shell.execute_reply.started": "2021-06-10T14:09:37.981249Z"
    },
    "papermill": {
     "duration": 3.115371,
     "end_time": "2021-06-11T11:09:26.969530",
     "exception": false,
     "start_time": "2021-06-11T11:09:23.854159",
     "status": "completed"
    },
    "tags": []
   },
   "outputs": [],
   "source": [
    "inputs = tf.keras.preprocessing.sequence.pad_sequences(inputs, maxlen=ENCODER_LEN, padding='post', truncating='post')\n",
    "targets = tf.keras.preprocessing.sequence.pad_sequences(targets, maxlen=DECODER_LEN, padding='post', truncating='post')\n",
    "inputs = tf.cast(inputs, dtype=tf.int64)\n",
    "targets = tf.cast(targets, dtype=tf.int64)"
   ]
  },
  {
   "cell_type": "code",
   "execution_count": 9,
   "id": "sexual-entrance",
   "metadata": {
    "execution": {
     "iopub.execute_input": "2021-06-11T11:09:27.024517Z",
     "iopub.status.busy": "2021-06-11T11:09:27.023850Z",
     "iopub.status.idle": "2021-06-11T11:09:27.111476Z",
     "shell.execute_reply": "2021-06-11T11:09:27.111009Z",
     "shell.execute_reply.started": "2021-06-10T14:09:52.714246Z"
    },
    "papermill": {
     "duration": 0.117083,
     "end_time": "2021-06-11T11:09:27.111592",
     "exception": false,
     "start_time": "2021-06-11T11:09:26.994509",
     "status": "completed"
    },
    "tags": []
   },
   "outputs": [],
   "source": [
    "dataset = tf.data.Dataset.from_tensor_slices((inputs, targets)).shuffle(BUFFER_SIZE).batch(BATCH_SIZE)"
   ]
  },
  {
   "cell_type": "markdown",
   "id": "sufficient-course",
   "metadata": {
    "papermill": {
     "duration": 0.024751,
     "end_time": "2021-06-11T11:09:27.160532",
     "exception": false,
     "start_time": "2021-06-11T11:09:27.135781",
     "status": "completed"
    },
    "tags": []
   },
   "source": [
    "# Transformer"
   ]
  },
  {
   "cell_type": "code",
   "execution_count": 10,
   "id": "tropical-penguin",
   "metadata": {
    "execution": {
     "iopub.execute_input": "2021-06-11T11:09:27.219176Z",
     "iopub.status.busy": "2021-06-11T11:09:27.218584Z",
     "iopub.status.idle": "2021-06-11T11:09:27.221562Z",
     "shell.execute_reply": "2021-06-11T11:09:27.221157Z",
     "shell.execute_reply.started": "2021-06-10T14:09:53.937142Z"
    },
    "papermill": {
     "duration": 0.036927,
     "end_time": "2021-06-11T11:09:27.221666",
     "exception": false,
     "start_time": "2021-06-11T11:09:27.184739",
     "status": "completed"
    },
    "tags": []
   },
   "outputs": [],
   "source": [
    "def get_angles(position, i, d_model):\n",
    "    angle_rates = 1 / np.power(10000, (2 * (i // 2)) / np.float32(d_model))\n",
    "    return position * angle_rates\n",
    "\n",
    "def positional_encoding(position, d_model):\n",
    "    angle_rads = get_angles(\n",
    "        np.arange(position)[:, np.newaxis],\n",
    "        np.arange(d_model)[np.newaxis, :],\n",
    "        d_model\n",
    "    )\n",
    "\n",
    "    angle_rads[:, 0::2] = np.sin(angle_rads[:, 0::2])\n",
    "\n",
    "    angle_rads[:, 1::2] = np.cos(angle_rads[:, 1::2])\n",
    "\n",
    "    pos_encoding = angle_rads[np.newaxis, ...]\n",
    "\n",
    "    return tf.cast(pos_encoding, dtype=tf.float32)\n",
    "\n",
    "def create_padding_mask(seq):\n",
    "    seq = tf.cast(tf.math.equal(seq, 0), tf.float32)\n",
    "    return seq[:, tf.newaxis, tf.newaxis, :]\n",
    "\n",
    "def create_look_ahead_mask(size):\n",
    "    mask = 1 - tf.linalg.band_part(tf.ones((size, size)), -1, 0)\n",
    "    return mask\n",
    "\n",
    "def scaled_dot_product_attention(q, k, v, mask):\n",
    "    matmul_qk = tf.matmul(q, k, transpose_b=True)\n",
    "\n",
    "    dk = tf.cast(tf.shape(k)[-1], tf.float32)\n",
    "    scaled_attention_logits = matmul_qk / tf.math.sqrt(dk)\n",
    "\n",
    "    if mask is not None:\n",
    "        scaled_attention_logits += (mask * -1e9)  \n",
    "\n",
    "    attention_weights = tf.nn.softmax(scaled_attention_logits, axis=-1)\n",
    "\n",
    "    output = tf.matmul(attention_weights, v)\n",
    "    return output, attention_weights\n"
   ]
  },
  {
   "cell_type": "code",
   "execution_count": 11,
   "id": "frequent-madison",
   "metadata": {
    "execution": {
     "iopub.execute_input": "2021-06-11T11:09:27.281575Z",
     "iopub.status.busy": "2021-06-11T11:09:27.280377Z",
     "iopub.status.idle": "2021-06-11T11:09:27.282630Z",
     "shell.execute_reply": "2021-06-11T11:09:27.283051Z",
     "shell.execute_reply.started": "2021-06-10T14:09:55.429217Z"
    },
    "papermill": {
     "duration": 0.037045,
     "end_time": "2021-06-11T11:09:27.283162",
     "exception": false,
     "start_time": "2021-06-11T11:09:27.246117",
     "status": "completed"
    },
    "tags": []
   },
   "outputs": [],
   "source": [
    "class MultiHeadAttention(tf.keras.layers.Layer):\n",
    "    def __init__(self, d_model, num_heads):\n",
    "        super(MultiHeadAttention, self).__init__()\n",
    "        self.num_heads = num_heads\n",
    "        self.d_model = d_model\n",
    "\n",
    "        assert d_model % self.num_heads == 0\n",
    "\n",
    "        self.depth = d_model // self.num_heads\n",
    "\n",
    "        self.wq = tf.keras.layers.Dense(d_model)\n",
    "        self.wk = tf.keras.layers.Dense(d_model)\n",
    "        self.wv = tf.keras.layers.Dense(d_model)\n",
    "\n",
    "        self.dense = tf.keras.layers.Dense(d_model)\n",
    "        \n",
    "    def split_heads(self, x, batch_size):\n",
    "        x = tf.reshape(x, (batch_size, -1, self.num_heads, self.depth))\n",
    "        return tf.transpose(x, perm=[0, 2, 1, 3])\n",
    "    \n",
    "    def call(self, v, k, q, mask):\n",
    "        batch_size = tf.shape(q)[0]\n",
    "\n",
    "        q = self.wq(q)\n",
    "        k = self.wk(k)\n",
    "        v = self.wv(v)\n",
    "\n",
    "        q = self.split_heads(q, batch_size)\n",
    "        k = self.split_heads(k, batch_size)\n",
    "        v = self.split_heads(v, batch_size)\n",
    "\n",
    "        scaled_attention, attention_weights = scaled_dot_product_attention(\n",
    "            q, k, v, mask)\n",
    "\n",
    "        scaled_attention = tf.transpose(scaled_attention, perm=[0, 2, 1, 3])\n",
    "        \n",
    "        concat_attention = tf.reshape(scaled_attention, (batch_size, -1, self.d_model))\n",
    "        output = self.dense(concat_attention)\n",
    "            \n",
    "        return output, attention_weights\n",
    "    \n",
    "def point_wise_feed_forward_network(d_model, dff):\n",
    "    return tf.keras.Sequential([\n",
    "        tf.keras.layers.Dense(dff, activation='relu'),\n",
    "        tf.keras.layers.Dense(d_model)\n",
    "    ])"
   ]
  },
  {
   "cell_type": "code",
   "execution_count": 12,
   "id": "caring-technician",
   "metadata": {
    "execution": {
     "iopub.execute_input": "2021-06-11T11:09:27.338075Z",
     "iopub.status.busy": "2021-06-11T11:09:27.337492Z",
     "iopub.status.idle": "2021-06-11T11:09:27.340670Z",
     "shell.execute_reply": "2021-06-11T11:09:27.340253Z",
     "shell.execute_reply.started": "2021-06-10T14:09:55.961256Z"
    },
    "papermill": {
     "duration": 0.033744,
     "end_time": "2021-06-11T11:09:27.340768",
     "exception": false,
     "start_time": "2021-06-11T11:09:27.307024",
     "status": "completed"
    },
    "tags": []
   },
   "outputs": [],
   "source": [
    "class EncoderLayer(tf.keras.layers.Layer):\n",
    "    def __init__(self, d_model, num_heads, dff, rate=0.1):\n",
    "        super(EncoderLayer, self).__init__()\n",
    "\n",
    "        self.mha = MultiHeadAttention(d_model, num_heads)\n",
    "        self.ffn = point_wise_feed_forward_network(d_model, dff)\n",
    "\n",
    "        self.layernorm1 = tf.keras.layers.LayerNormalization(epsilon=1e-6)\n",
    "        self.layernorm2 = tf.keras.layers.LayerNormalization(epsilon=1e-6)\n",
    "\n",
    "        self.dropout1 = tf.keras.layers.Dropout(rate)\n",
    "        self.dropout2 = tf.keras.layers.Dropout(rate)\n",
    "    \n",
    "    def call(self, x, training, mask):\n",
    "        attn_output, _ = self.mha(x, x, x, mask)\n",
    "        attn_output = self.dropout1(attn_output, training=training)\n",
    "        out1 = self.layernorm1(x + attn_output)\n",
    "\n",
    "        ffn_output = self.ffn(out1)\n",
    "        ffn_output = self.dropout2(ffn_output, training=training)\n",
    "        out2 = self.layernorm2(out1 + ffn_output)\n",
    "\n",
    "        return out2"
   ]
  },
  {
   "cell_type": "code",
   "execution_count": 13,
   "id": "arctic-yeast",
   "metadata": {
    "execution": {
     "iopub.execute_input": "2021-06-11T11:09:27.398030Z",
     "iopub.status.busy": "2021-06-11T11:09:27.397442Z",
     "iopub.status.idle": "2021-06-11T11:09:27.400641Z",
     "shell.execute_reply": "2021-06-11T11:09:27.400227Z",
     "shell.execute_reply.started": "2021-06-10T14:09:56.286425Z"
    },
    "papermill": {
     "duration": 0.035903,
     "end_time": "2021-06-11T11:09:27.400738",
     "exception": false,
     "start_time": "2021-06-11T11:09:27.364835",
     "status": "completed"
    },
    "tags": []
   },
   "outputs": [],
   "source": [
    "class DecoderLayer(tf.keras.layers.Layer):\n",
    "    def __init__(self, d_model, num_heads, dff, rate=0.1):\n",
    "        super(DecoderLayer, self).__init__()\n",
    "\n",
    "        self.mha1 = MultiHeadAttention(d_model, num_heads)\n",
    "        self.mha2 = MultiHeadAttention(d_model, num_heads)\n",
    "\n",
    "        self.ffn = point_wise_feed_forward_network(d_model, dff)\n",
    "\n",
    "        self.layernorm1 = tf.keras.layers.LayerNormalization(epsilon=1e-6)\n",
    "        self.layernorm2 = tf.keras.layers.LayerNormalization(epsilon=1e-6)\n",
    "        self.layernorm3 = tf.keras.layers.LayerNormalization(epsilon=1e-6)\n",
    "\n",
    "        self.dropout1 = tf.keras.layers.Dropout(rate)\n",
    "        self.dropout2 = tf.keras.layers.Dropout(rate)\n",
    "        self.dropout3 = tf.keras.layers.Dropout(rate)\n",
    "    \n",
    "    \n",
    "    def call(self, x, enc_output, training, look_ahead_mask, padding_mask):\n",
    "        attn1, attn_weights_block1 = self.mha1(x, x, x, look_ahead_mask)\n",
    "        attn1 = self.dropout1(attn1, training=training)\n",
    "        out1 = self.layernorm1(attn1 + x)\n",
    "\n",
    "        attn2, attn_weights_block2 = self.mha2(enc_output, enc_output, out1, padding_mask)\n",
    "        attn2 = self.dropout2(attn2, training=training)\n",
    "        out2 = self.layernorm2(attn2 + out1)\n",
    "\n",
    "        ffn_output = self.ffn(out2)\n",
    "        ffn_output = self.dropout3(ffn_output, training=training)\n",
    "        out3 = self.layernorm3(ffn_output + out2)\n",
    "\n",
    "        return out3, attn_weights_block1, attn_weights_block2"
   ]
  },
  {
   "cell_type": "code",
   "execution_count": 14,
   "id": "aging-accent",
   "metadata": {
    "execution": {
     "iopub.execute_input": "2021-06-11T11:09:27.463203Z",
     "iopub.status.busy": "2021-06-11T11:09:27.462020Z",
     "iopub.status.idle": "2021-06-11T11:09:27.464261Z",
     "shell.execute_reply": "2021-06-11T11:09:27.464675Z",
     "shell.execute_reply.started": "2021-06-10T14:09:56.657473Z"
    },
    "papermill": {
     "duration": 0.039876,
     "end_time": "2021-06-11T11:09:27.464797",
     "exception": false,
     "start_time": "2021-06-11T11:09:27.424921",
     "status": "completed"
    },
    "tags": []
   },
   "outputs": [],
   "source": [
    "class Encoder(tf.keras.layers.Layer):\n",
    "    def __init__(self, num_layers, d_model, num_heads, dff, input_vocab_size, maximum_position_encoding, rate=0.1):\n",
    "        super(Encoder, self).__init__()\n",
    "\n",
    "        self.d_model = d_model\n",
    "        self.num_layers = num_layers\n",
    "\n",
    "        self.embedding = tf.keras.layers.Embedding(input_vocab_size, d_model)\n",
    "        self.pos_encoding = positional_encoding(maximum_position_encoding, self.d_model)\n",
    "\n",
    "        self.enc_layers = [EncoderLayer(d_model, num_heads, dff, rate) for _ in range(num_layers)]\n",
    "\n",
    "        self.dropout = tf.keras.layers.Dropout(rate)\n",
    "        \n",
    "    def call(self, x, training, mask):\n",
    "        seq_len = tf.shape(x)[1]\n",
    "\n",
    "        x = self.embedding(x)\n",
    "        x *= tf.math.sqrt(tf.cast(self.d_model, tf.float32))\n",
    "        x += self.pos_encoding[:, :seq_len, :]\n",
    "\n",
    "        x = self.dropout(x, training=training)\n",
    "    \n",
    "        for i in range(self.num_layers):\n",
    "            x = self.enc_layers[i](x, training, mask)\n",
    "    \n",
    "        return x\n",
    "    \n",
    "class Decoder(tf.keras.layers.Layer):\n",
    "        \n",
    "    def __init__(self, num_layers, d_model, num_heads, dff, target_vocab_size, maximum_position_encoding, rate=0.1):\n",
    "        super(Decoder, self).__init__()\n",
    "\n",
    "        self.d_model = d_model\n",
    "        self.num_layers = num_layers\n",
    "\n",
    "        self.embedding = tf.keras.layers.Embedding(target_vocab_size, d_model)\n",
    "        self.pos_encoding = positional_encoding(maximum_position_encoding, d_model)\n",
    "\n",
    "        self.dec_layers = [DecoderLayer(d_model, num_heads, dff, rate) for _ in range(num_layers)]\n",
    "        self.dropout = tf.keras.layers.Dropout(rate)\n",
    "    \n",
    "    def call(self, x, enc_output, training, look_ahead_mask, padding_mask):\n",
    "        seq_len = tf.shape(x)[1]\n",
    "        attention_weights = {}\n",
    "\n",
    "        x = self.embedding(x)\n",
    "        x *= tf.math.sqrt(tf.cast(self.d_model, tf.float32))\n",
    "        x += self.pos_encoding[:, :seq_len, :]\n",
    "\n",
    "        x = self.dropout(x, training=training)\n",
    "\n",
    "        for i in range(self.num_layers):\n",
    "            x, block1, block2 = self.dec_layers[i](x, enc_output, training, look_ahead_mask, padding_mask)\n",
    "\n",
    "            attention_weights['decoder_layer{}_block1'.format(i+1)] = block1\n",
    "            attention_weights['decoder_layer{}_block2'.format(i+1)] = block2\n",
    "    \n",
    "        return x, attention_weights\n",
    "    "
   ]
  },
  {
   "cell_type": "code",
   "execution_count": 15,
   "id": "cellular-theta",
   "metadata": {
    "execution": {
     "iopub.execute_input": "2021-06-11T11:09:27.519461Z",
     "iopub.status.busy": "2021-06-11T11:09:27.518907Z",
     "iopub.status.idle": "2021-06-11T11:09:27.522546Z",
     "shell.execute_reply": "2021-06-11T11:09:27.522147Z",
     "shell.execute_reply.started": "2021-06-10T14:09:57.077181Z"
    },
    "papermill": {
     "duration": 0.033518,
     "end_time": "2021-06-11T11:09:27.522647",
     "exception": false,
     "start_time": "2021-06-11T11:09:27.489129",
     "status": "completed"
    },
    "tags": []
   },
   "outputs": [],
   "source": [
    "class Transformer(tf.keras.Model):\n",
    "    def __init__(self, num_layers, d_model, num_heads, dff, input_vocab_size, target_vocab_size, pe_input, pe_target, rate=0.1):\n",
    "        super(Transformer, self).__init__()\n",
    "\n",
    "        self.encoder = Encoder(num_layers, d_model, num_heads, dff, input_vocab_size, pe_input, rate)\n",
    "\n",
    "        self.decoder = Decoder(num_layers, d_model, num_heads, dff, target_vocab_size, pe_target, rate)\n",
    "\n",
    "        self.final_layer = tf.keras.layers.Dense(target_vocab_size)\n",
    "    \n",
    "    def call(self, inp, tar, training, enc_padding_mask, look_ahead_mask, dec_padding_mask):\n",
    "        enc_output = self.encoder(inp, training, enc_padding_mask)\n",
    "\n",
    "        dec_output, attention_weights = self.decoder(tar, enc_output, training, look_ahead_mask, dec_padding_mask)\n",
    "\n",
    "        final_output = self.final_layer(dec_output)\n",
    "\n",
    "        return final_output, attention_weights"
   ]
  },
  {
   "cell_type": "code",
   "execution_count": 16,
   "id": "tested-norman",
   "metadata": {
    "execution": {
     "iopub.execute_input": "2021-06-11T11:09:27.575476Z",
     "iopub.status.busy": "2021-06-11T11:09:27.574289Z",
     "iopub.status.idle": "2021-06-11T11:09:27.576991Z",
     "shell.execute_reply": "2021-06-11T11:09:27.576526Z",
     "shell.execute_reply.started": "2021-06-10T14:10:28.376268Z"
    },
    "papermill": {
     "duration": 0.030338,
     "end_time": "2021-06-11T11:09:27.577085",
     "exception": false,
     "start_time": "2021-06-11T11:09:27.546747",
     "status": "completed"
    },
    "tags": []
   },
   "outputs": [],
   "source": [
    "num_layers = 4\n",
    "d_model = 128\n",
    "dff = 512\n",
    "num_heads = 8\n",
    "dropout_rate = 0.1\n",
    "EPOCHS = 10"
   ]
  },
  {
   "cell_type": "markdown",
   "id": "reliable-mainland",
   "metadata": {
    "papermill": {
     "duration": 0.023908,
     "end_time": "2021-06-11T11:09:27.625409",
     "exception": false,
     "start_time": "2021-06-11T11:09:27.601501",
     "status": "completed"
    },
    "tags": []
   },
   "source": [
    "# Custom Learning Rate"
   ]
  },
  {
   "cell_type": "code",
   "execution_count": 17,
   "id": "scheduled-third",
   "metadata": {
    "execution": {
     "iopub.execute_input": "2021-06-11T11:09:27.678816Z",
     "iopub.status.busy": "2021-06-11T11:09:27.678283Z",
     "iopub.status.idle": "2021-06-11T11:09:27.681947Z",
     "shell.execute_reply": "2021-06-11T11:09:27.681568Z",
     "shell.execute_reply.started": "2021-06-10T14:10:30.676102Z"
    },
    "papermill": {
     "duration": 0.032329,
     "end_time": "2021-06-11T11:09:27.682044",
     "exception": false,
     "start_time": "2021-06-11T11:09:27.649715",
     "status": "completed"
    },
    "tags": []
   },
   "outputs": [],
   "source": [
    "class CustomSchedule(tf.keras.optimizers.schedules.LearningRateSchedule):\n",
    "    def __init__(self, d_model, warmup_steps=4000):\n",
    "        super(CustomSchedule, self).__init__()\n",
    "\n",
    "        self.d_model = d_model\n",
    "        self.d_model = tf.cast(self.d_model, tf.float32)\n",
    "\n",
    "        self.warmup_steps = warmup_steps\n",
    "    \n",
    "    def __call__(self, step):\n",
    "        arg1 = tf.math.rsqrt(step)\n",
    "        arg2 = step * (self.warmup_steps ** -1.5)\n",
    "\n",
    "        return tf.math.rsqrt(self.d_model) * tf.math.minimum(arg1, arg2)"
   ]
  },
  {
   "cell_type": "code",
   "execution_count": 18,
   "id": "becoming-richardson",
   "metadata": {
    "execution": {
     "iopub.execute_input": "2021-06-11T11:09:27.735134Z",
     "iopub.status.busy": "2021-06-11T11:09:27.734021Z",
     "iopub.status.idle": "2021-06-11T11:09:27.739583Z",
     "shell.execute_reply": "2021-06-11T11:09:27.740235Z",
     "shell.execute_reply.started": "2021-06-10T14:10:32.214742Z"
    },
    "papermill": {
     "duration": 0.033795,
     "end_time": "2021-06-11T11:09:27.740441",
     "exception": false,
     "start_time": "2021-06-11T11:09:27.706646",
     "status": "completed"
    },
    "tags": []
   },
   "outputs": [],
   "source": [
    "learning_rate = CustomSchedule(d_model)\n",
    "\n",
    "optimizer = tf.keras.optimizers.Adam(learning_rate, beta_1=0.9, beta_2=0.98, epsilon=1e-9)"
   ]
  },
  {
   "cell_type": "code",
   "execution_count": 19,
   "id": "binding-cameroon",
   "metadata": {
    "execution": {
     "iopub.execute_input": "2021-06-11T11:09:27.793359Z",
     "iopub.status.busy": "2021-06-11T11:09:27.792887Z",
     "iopub.status.idle": "2021-06-11T11:09:27.983594Z",
     "shell.execute_reply": "2021-06-11T11:09:27.983180Z",
     "shell.execute_reply.started": "2021-06-10T14:10:33.471011Z"
    },
    "papermill": {
     "duration": 0.218786,
     "end_time": "2021-06-11T11:09:27.983705",
     "exception": false,
     "start_time": "2021-06-11T11:09:27.764919",
     "status": "completed"
    },
    "tags": []
   },
   "outputs": [
    {
     "data": {
      "text/plain": [
       "Text(0.5, 0, 'Train Step')"
      ]
     },
     "execution_count": 19,
     "metadata": {},
     "output_type": "execute_result"
    },
    {
     "data": {
      "image/png": "[encoded data removed]",
      "text/plain": [
       "<Figure size 432x288 with 1 Axes>"
      ]
     },
     "metadata": {
      "needs_background": "light"
     },
     "output_type": "display_data"
    }
   ],
   "source": [
    "temp_learning_rate_schedule = CustomSchedule(d_model)\n",
    "\n",
    "plt.plot(temp_learning_rate_schedule(tf.range(40000, dtype=tf.float32)))\n",
    "plt.ylabel(\"Learning Rate\")\n",
    "plt.xlabel(\"Train Step\")"
   ]
  },
  {
   "cell_type": "markdown",
   "id": "sustained-candle",
   "metadata": {
    "papermill": {
     "duration": 0.025408,
     "end_time": "2021-06-11T11:09:28.034454",
     "exception": false,
     "start_time": "2021-06-11T11:09:28.009046",
     "status": "completed"
    },
    "tags": []
   },
   "source": [
    "# Custom Loss and Accuracy"
   ]
  },
  {
   "cell_type": "code",
   "execution_count": 20,
   "id": "fuzzy-aggregate",
   "metadata": {
    "execution": {
     "iopub.execute_input": "2021-06-11T11:09:28.091925Z",
     "iopub.status.busy": "2021-06-11T11:09:28.091365Z",
     "iopub.status.idle": "2021-06-11T11:09:28.095195Z",
     "shell.execute_reply": "2021-06-11T11:09:28.094774Z",
     "shell.execute_reply.started": "2021-06-10T14:10:35.291306Z"
    },
    "papermill": {
     "duration": 0.035584,
     "end_time": "2021-06-11T11:09:28.095297",
     "exception": false,
     "start_time": "2021-06-11T11:09:28.059713",
     "status": "completed"
    },
    "tags": []
   },
   "outputs": [],
   "source": [
    "loss_object = tf.keras.losses.SparseCategoricalCrossentropy(from_logits=True, reduction='none')\n",
    "def loss_function(real, pred):\n",
    "    mask = tf.math.logical_not(tf.math.equal(real, 0))\n",
    "    loss_ = loss_object(real, pred)\n",
    "\n",
    "    mask = tf.cast(mask, dtype=loss_.dtype)\n",
    "    loss_ *= mask\n",
    "\n",
    "    return tf.reduce_sum(loss_)/tf.reduce_sum(mask)\n",
    "\n",
    "\n",
    "def accuracy_function(real, pred):\n",
    "    accuracies = tf.equal(real, tf.argmax(pred, axis=2))\n",
    "\n",
    "    mask = tf.math.logical_not(tf.math.equal(real, 0))\n",
    "    accuracies = tf.math.logical_and(mask, accuracies)\n",
    "\n",
    "    accuracies = tf.cast(accuracies, dtype=tf.float32)\n",
    "    mask = tf.cast(mask, dtype=tf.float32)\n",
    "    return tf.reduce_sum(accuracies)/tf.reduce_sum(mask)"
   ]
  },
  {
   "cell_type": "code",
   "execution_count": 21,
   "id": "scenic-setup",
   "metadata": {
    "execution": {
     "iopub.execute_input": "2021-06-11T11:09:28.150438Z",
     "iopub.status.busy": "2021-06-11T11:09:28.149645Z",
     "iopub.status.idle": "2021-06-11T11:09:28.170284Z",
     "shell.execute_reply": "2021-06-11T11:09:28.169878Z",
     "shell.execute_reply.started": "2021-06-10T14:10:36.869689Z"
    },
    "papermill": {
     "duration": 0.049724,
     "end_time": "2021-06-11T11:09:28.170386",
     "exception": false,
     "start_time": "2021-06-11T11:09:28.120662",
     "status": "completed"
    },
    "tags": []
   },
   "outputs": [],
   "source": [
    "train_loss = tf.keras.metrics.Mean(name='train_loss')\n",
    "train_accuracy = tf.keras.metrics.Mean(name='train_accuracy')"
   ]
  },
  {
   "cell_type": "code",
   "execution_count": 22,
   "id": "postal-profit",
   "metadata": {
    "execution": {
     "iopub.execute_input": "2021-06-11T11:09:28.226190Z",
     "iopub.status.busy": "2021-06-11T11:09:28.225357Z",
     "iopub.status.idle": "2021-06-11T11:09:28.331861Z",
     "shell.execute_reply": "2021-06-11T11:09:28.331429Z",
     "shell.execute_reply.started": "2021-06-10T14:10:37.825267Z"
    },
    "papermill": {
     "duration": 0.136616,
     "end_time": "2021-06-11T11:09:28.331979",
     "exception": false,
     "start_time": "2021-06-11T11:09:28.195363",
     "status": "completed"
    },
    "tags": []
   },
   "outputs": [],
   "source": [
    "transformer = Transformer(\n",
    "    num_layers=num_layers,\n",
    "    d_model=d_model,\n",
    "    num_heads=num_heads,\n",
    "    dff=dff,\n",
    "    input_vocab_size=ENCODER_VOCAB,\n",
    "    target_vocab_size=DECODER_VOCAB,\n",
    "    pe_input=1000,\n",
    "    pe_target=1000,\n",
    "    rate=dropout_rate\n",
    ")"
   ]
  },
  {
   "cell_type": "code",
   "execution_count": 23,
   "id": "unable-carnival",
   "metadata": {
    "execution": {
     "iopub.execute_input": "2021-06-11T11:09:28.388274Z",
     "iopub.status.busy": "2021-06-11T11:09:28.387056Z",
     "iopub.status.idle": "2021-06-11T11:09:28.389908Z",
     "shell.execute_reply": "2021-06-11T11:09:28.389439Z",
     "shell.execute_reply.started": "2021-06-10T14:10:39.230081Z"
    },
    "papermill": {
     "duration": 0.03246,
     "end_time": "2021-06-11T11:09:28.390046",
     "exception": false,
     "start_time": "2021-06-11T11:09:28.357586",
     "status": "completed"
    },
    "tags": []
   },
   "outputs": [],
   "source": [
    "def create_masks(inp, tar):\n",
    "    enc_padding_mask = create_padding_mask(inp)\n",
    "    dec_padding_mask = create_padding_mask(inp)\n",
    "\n",
    "    look_ahead_mask = create_look_ahead_mask(tf.shape(tar)[1])\n",
    "    dec_target_padding_mask = create_padding_mask(tar)\n",
    "    combined_mask = tf.maximum(dec_target_padding_mask, look_ahead_mask)\n",
    "  \n",
    "    return enc_padding_mask, combined_mask, dec_padding_mask"
   ]
  },
  {
   "cell_type": "code",
   "execution_count": 24,
   "id": "deadly-madonna",
   "metadata": {
    "execution": {
     "iopub.execute_input": "2021-06-11T11:09:28.447913Z",
     "iopub.status.busy": "2021-06-11T11:09:28.447265Z",
     "iopub.status.idle": "2021-06-11T11:09:28.450690Z",
     "shell.execute_reply": "2021-06-11T11:09:28.450254Z",
     "shell.execute_reply.started": "2021-06-10T14:10:41.438365Z"
    },
    "papermill": {
     "duration": 0.035678,
     "end_time": "2021-06-11T11:09:28.450790",
     "exception": false,
     "start_time": "2021-06-11T11:09:28.415112",
     "status": "completed"
    },
    "tags": []
   },
   "outputs": [
    {
     "name": "stdout",
     "output_type": "stream",
     "text": [
      "Latest checkpoint restored!!\n"
     ]
    }
   ],
   "source": [
    "checkpoint_path = \"checkpoints\"\n",
    "\n",
    "ckpt = tf.train.Checkpoint(transformer=transformer, optimizer=optimizer)\n",
    "\n",
    "ckpt_manager = tf.train.CheckpointManager(ckpt, checkpoint_path, max_to_keep=5)\n",
    "\n",
    "if ckpt_manager.latest_checkpoint:\n",
    "    ckpt.restore(ckpt_manager.latest_checkpoint)\n",
    "    print ('Latest checkpoint restored!!')"
   ]
  },
  {
   "cell_type": "code",
   "execution_count": 25,
   "id": "expired-proof",
   "metadata": {
    "execution": {
     "iopub.execute_input": "2021-06-11T11:09:28.506703Z",
     "iopub.status.busy": "2021-06-11T11:09:28.506068Z",
     "iopub.status.idle": "2021-06-11T11:09:28.509679Z",
     "shell.execute_reply": "2021-06-11T11:09:28.509212Z",
     "shell.execute_reply.started": "2021-06-10T14:10:42.507492Z"
    },
    "papermill": {
     "duration": 0.034048,
     "end_time": "2021-06-11T11:09:28.509792",
     "exception": false,
     "start_time": "2021-06-11T11:09:28.475744",
     "status": "completed"
    },
    "tags": []
   },
   "outputs": [],
   "source": [
    "@tf.function\n",
    "def train_step(inp, tar):\n",
    "    tar_inp = tar[:, :-1]\n",
    "    tar_real = tar[:, 1:]\n",
    "\n",
    "    enc_padding_mask, combined_mask, dec_padding_mask = create_masks(inp, tar_inp)\n",
    "\n",
    "    with tf.GradientTape() as tape:\n",
    "        predictions, _ = transformer(\n",
    "            inp, tar_inp, \n",
    "            True, \n",
    "            enc_padding_mask, \n",
    "            combined_mask, \n",
    "            dec_padding_mask\n",
    "        )\n",
    "        loss = loss_function(tar_real, predictions)\n",
    "\n",
    "    gradients = tape.gradient(loss, transformer.trainable_variables)    \n",
    "    optimizer.apply_gradients(zip(gradients, transformer.trainable_variables))\n",
    "\n",
    "    train_loss(loss)\n",
    "    train_accuracy(accuracy_function(tar_real, predictions))"
   ]
  },
  {
   "cell_type": "markdown",
   "id": "loose-inspiration",
   "metadata": {
    "papermill": {
     "duration": 0.025207,
     "end_time": "2021-06-11T11:09:28.559857",
     "exception": false,
     "start_time": "2021-06-11T11:09:28.534650",
     "status": "completed"
    },
    "tags": []
   },
   "source": [
    "# Training"
   ]
  },
  {
   "cell_type": "code",
   "execution_count": 26,
   "id": "sonic-favor",
   "metadata": {
    "execution": {
     "iopub.execute_input": "2021-06-11T11:09:28.616093Z",
     "iopub.status.busy": "2021-06-11T11:09:28.615318Z",
     "iopub.status.idle": "2021-06-11T11:59:03.796740Z",
     "shell.execute_reply": "2021-06-11T11:59:03.797141Z",
     "shell.execute_reply.started": "2021-06-10T14:10:49.516113Z"
    },
    "papermill": {
     "duration": 2975.212319,
     "end_time": "2021-06-11T11:59:03.797288",
     "exception": false,
     "start_time": "2021-06-11T11:09:28.584969",
     "status": "completed"
    },
    "tags": []
   },
   "outputs": [
    {
     "name": "stdout",
     "output_type": "stream",
     "text": [
      "Epoch 1 Batch 0 Loss 4.7646 Accuracy 0.2587\n",
      "Epoch 1 Batch 200 Loss 4.7022 Accuracy 0.2612\n",
      "Epoch 1 Batch 400 Loss 4.6712 Accuracy 0.2635\n",
      "Epoch 1 Batch 600 Loss 4.6352 Accuracy 0.2678\n",
      "Epoch 1 Batch 800 Loss 4.6024 Accuracy 0.2711\n",
      "Epoch 1 Loss 4.5710 Accuracy 0.2742\n",
      "Time taken for 1 epoch: 7052.266710281372 secs\n",
      "\n",
      "Epoch 2 Batch 0 Loss 4.5154 Accuracy 0.2742\n",
      "Epoch 2 Batch 200 Loss 4.3984 Accuracy 0.2771\n",
      "Epoch 2 Batch 400 Loss 4.3699 Accuracy 0.2801\n",
      "Epoch 2 Batch 600 Loss 4.3395 Accuracy 0.2832\n",
      "Epoch 2 Batch 800 Loss 4.3154 Accuracy 0.2861\n",
      "Epoch 2 Loss 4.2920 Accuracy 0.2889\n",
      "Time taken for 1 epoch: 6832.862363576889 secs\n",
      "\n",
      "Epoch 3 Batch 0 Loss 4.5016 Accuracy 0.2889\n",
      "Epoch 3 Batch 200 Loss 4.1585 Accuracy 0.2918\n",
      "Epoch 3 Batch 400 Loss 4.1389 Accuracy 0.2944\n",
      "Epoch 3 Batch 600 Loss 4.1142 Accuracy 0.2971\n",
      "Epoch 3 Batch 800 Loss 4.0962 Accuracy 0.2998\n",
      "Epoch 3 Loss 4.0780 Accuracy 0.3024\n",
      "Time taken for 1 epoch: 7187.282725811005 secs\n",
      "\n",
      "Epoch 4 Batch 0 Loss 3.8493 Accuracy 0.3024\n",
      "Epoch 4 Batch 200 Loss 3.9809 Accuracy 0.3050\n",
      "Epoch 4 Batch 400 Loss 3.9609 Accuracy 0.3075\n",
      "Epoch 4 Batch 600 Loss 3.9391 Accuracy 0.3100\n",
      "Epoch 4 Batch 800 Loss 3.9241 Accuracy 0.3125\n",
      "Epoch 4 Loss 3.9095 Accuracy 0.3149\n",
      "Time taken for 1 epoch: 7192.4869475364685 secs\n",
      "\n",
      "Epoch 5 Batch 0 Loss 3.6017 Accuracy 0.3149\n",
      "Epoch 5 Batch 200 Loss 3.8327 Accuracy 0.3172\n",
      "Epoch 5 Batch 400 Loss 3.8166 Accuracy 0.3195\n",
      "Epoch 5 Batch 600 Loss 3.7973 Accuracy 0.3219\n",
      "Epoch 5 Batch 800 Loss 3.7881 Accuracy 0.3241\n",
      "Saving checkpoint for epoch 5 at checkpoints\\ckpt-2\n",
      "Epoch 5 Loss 3.7768 Accuracy 0.3263\n",
      "Time taken for 1 epoch: 7249.835676193237 secs\n",
      "\n",
      "Epoch 6 Batch 0 Loss 4.0907 Accuracy 0.3263\n",
      "Epoch 6 Batch 200 Loss 3.7127 Accuracy 0.3285\n",
      "Epoch 6 Batch 400 Loss 3.7037 Accuracy 0.3306\n",
      "Epoch 6 Batch 600 Loss 3.6925 Accuracy 0.3327\n",
      "Epoch 6 Batch 800 Loss 3.6830 Accuracy 0.3348\n",
      "Epoch 6 Loss 3.6776 Accuracy 0.3368\n",
      "Time taken for 1 epoch: 7103.8163549900055 secs\n",
      "\n",
      "Epoch 7 Batch 0 Loss 3.6986 Accuracy 0.3368\n",
      "Epoch 7 Batch 200 Loss 3.6449 Accuracy 0.3388\n",
      "Epoch 7 Batch 400 Loss 3.6358 Accuracy 0.3407\n",
      "Epoch 7 Batch 600 Loss 3.6232 Accuracy 0.3426\n",
      "Epoch 7 Batch 800 Loss 3.6191 Accuracy 0.3444\n",
      "Epoch 7 Loss 3.6148 Accuracy 0.3462\n",
      "Time taken for 1 epoch: 7107.180468082428 secs\n",
      "\n",
      "Epoch 8 Batch 0 Loss 3.4017 Accuracy 0.3462\n",
      "Epoch 8 Batch 200 Loss 3.5871 Accuracy 0.3480\n",
      "Epoch 8 Batch 400 Loss 3.5758 Accuracy 0.3497\n",
      "Epoch 8 Batch 600 Loss 3.5666 Accuracy 0.3515\n",
      "Epoch 8 Batch 800 Loss 3.5609 Accuracy 0.3532\n",
      "Epoch 8 Loss 3.5525 Accuracy 0.3549\n",
      "Time taken for 1 epoch: 7016.233265161514 secs\n",
      "\n",
      "Epoch 9 Batch 0 Loss 3.5619 Accuracy 0.3549\n",
      "Epoch 9 Batch 200 Loss 3.5188 Accuracy 0.3565\n",
      "Epoch 9 Batch 400 Loss 3.5041 Accuracy 0.3581\n",
      "Epoch 9 Batch 600 Loss 3.4934 Accuracy 0.3598\n",
      "Epoch 9 Batch 800 Loss 3.4855 Accuracy 0.3614\n",
      "Epoch 9 Loss 3.4786 Accuracy 0.3629\n",
      "Time taken for 1 epoch: 6984.85608124733 secs\n",
      "\n",
      "Epoch 10 Batch 0 Loss 3.6205 Accuracy 0.3629\n",
      "Epoch 10 Batch 200 Loss 3.4446 Accuracy 0.3644\n",
      "Epoch 10 Batch 400 Loss 3.4280 Accuracy 0.3659\n",
      "Epoch 10 Batch 600 Loss 3.4170 Accuracy 0.3675\n",
      "Epoch 10 Batch 800 Loss 3.4091 Accuracy 0.3690\n",
      "Saving checkpoint for epoch 10 at checkpoints\\ckpt-3\n",
      "Epoch 10 Loss 3.4029 Accuracy 0.3704\n",
      "Time taken for 1 epoch: 6979.166955471039 secs\n",
      "\n"
     ]
    }
   ],
   "source": [
    "for epoch in range(EPOCHS):\n",
    "    start = time.time()\n",
    "\n",
    "    train_loss.reset_states()\n",
    "  \n",
    "    for (batch, (inp, tar)) in enumerate(dataset):\n",
    "        train_step(inp, tar)\n",
    "    \n",
    "        if batch % 200 == 0:\n",
    "            print(f'Epoch {epoch + 1} Batch {batch} Loss {train_loss.result():.4f} Accuracy {train_accuracy.result():.4f}')\n",
    "      \n",
    "    if (epoch + 1) % 5 == 0:\n",
    "        ckpt_save_path = ckpt_manager.save()\n",
    "        print ('Saving checkpoint for epoch {} at {}'.format(epoch+1, ckpt_save_path))\n",
    "   \n",
    "    print(f'Epoch {epoch + 1} Loss {train_loss.result():.4f} Accuracy {train_accuracy.result():.4f}')\n",
    "    print ('Time taken for 1 epoch: {} secs\\n'.format(time.time() - start))"
   ]
  },
  {
   "cell_type": "code",
   "execution_count": 27,
   "id": "similar-basket",
   "metadata": {
    "execution": {
     "iopub.execute_input": "2021-06-11T11:59:03.885203Z",
     "iopub.status.busy": "2021-06-11T11:59:03.884696Z",
     "iopub.status.idle": "2021-06-11T11:59:03.888137Z",
     "shell.execute_reply": "2021-06-11T11:59:03.888525Z",
     "shell.execute_reply.started": "2021-06-10T14:08:03.826189Z"
    },
    "papermill": {
     "duration": 0.05116,
     "end_time": "2021-06-11T11:59:03.888651",
     "exception": false,
     "start_time": "2021-06-11T11:59:03.837491",
     "status": "completed"
    },
    "tags": []
   },
   "outputs": [],
   "source": [
    "def evaluate(text):\n",
    "    text = eng_tokenizer.texts_to_sequences([text])\n",
    "    text = tf.keras.preprocessing.sequence.pad_sequences(text, maxlen=ENCODER_LEN, \n",
    "                                                                   padding='post', truncating='post')\n",
    "\n",
    "    encoder_input = tf.expand_dims(text[0], 0)\n",
    "\n",
    "    decoder_input = [hind_tokenizer.word_index['<sos>']]\n",
    "    output = tf.expand_dims(decoder_input, 0)\n",
    "    \n",
    "    for i in range(DECODER_LEN):\n",
    "        enc_padding_mask, combined_mask, dec_padding_mask = create_masks(encoder_input, output)\n",
    "\n",
    "        predictions, attention_weights = transformer(\n",
    "            encoder_input, \n",
    "            output,\n",
    "            False,\n",
    "            enc_padding_mask,\n",
    "            combined_mask,\n",
    "            dec_padding_mask\n",
    "        )\n",
    "\n",
    "        predictions = predictions[: ,-1:, :]\n",
    "        predicted_id = tf.cast(tf.argmax(predictions, axis=-1), tf.int32)\n",
    "\n",
    "        if predicted_id == hind_tokenizer.word_index['<eos>']:\n",
    "            return tf.squeeze(output, axis=0), attention_weights\n",
    "\n",
    "        output = tf.concat([output, predicted_id], axis=-1)\n",
    "\n",
    "    return tf.squeeze(output, axis=0), attention_weights"
   ]
  },
  {
   "cell_type": "code",
   "execution_count": 28,
   "id": "tamil-sister",
   "metadata": {
    "execution": {
     "iopub.execute_input": "2021-06-11T11:59:03.973642Z",
     "iopub.status.busy": "2021-06-11T11:59:03.973131Z",
     "iopub.status.idle": "2021-06-11T11:59:03.976301Z",
     "shell.execute_reply": "2021-06-11T11:59:03.977098Z",
     "shell.execute_reply.started": "2021-06-10T14:08:04.663261Z"
    },
    "papermill": {
     "duration": 0.04833,
     "end_time": "2021-06-11T11:59:03.977229",
     "exception": false,
     "start_time": "2021-06-11T11:59:03.928899",
     "status": "completed"
    },
    "tags": []
   },
   "outputs": [],
   "source": [
    "def translate(eng_text):\n",
    "    hind_text = evaluate(text=eng_text)[0].numpy()\n",
    "    hind_text = np.expand_dims(hind_text[1:], 0)  \n",
    "    return hind_tokenizer.sequences_to_texts(hind_text)[0]"
   ]
  },
  {
   "cell_type": "markdown",
   "id": "realistic-venice",
   "metadata": {
    "papermill": {
     "duration": 0.039909,
     "end_time": "2021-06-11T11:59:04.058214",
     "exception": false,
     "start_time": "2021-06-11T11:59:04.018305",
     "status": "completed"
    },
    "tags": []
   },
   "source": [
    "# Prediction examples"
   ]
  },
  {
   "cell_type": "code",
   "execution_count": 29,
   "id": "concrete-waters",
   "metadata": {
    "execution": {
     "iopub.execute_input": "2021-06-11T11:59:04.143111Z",
     "iopub.status.busy": "2021-06-11T11:59:04.142612Z",
     "iopub.status.idle": "2021-06-11T11:59:05.559551Z",
     "shell.execute_reply": "2021-06-11T11:59:05.559065Z",
     "shell.execute_reply.started": "2021-06-10T14:08:25.90581Z"
    },
    "papermill": {
     "duration": 1.460983,
     "end_time": "2021-06-11T11:59:05.559692",
     "exception": false,
     "start_time": "2021-06-11T11:59:04.098709",
     "status": "completed"
    },
    "tags": []
   },
   "outputs": [
    {
     "data": {
      "text/plain": [
       "\"राजनीति में एक राजनैतिक घटना है जो राजनैतिक तौर पर जोर जोर जोर ' वाल ' राजनीति में शामिल है\""
      ]
     },
     "execution_count": 29,
     "metadata": {},
     "output_type": "execute_result"
    }
   ],
   "source": [
    "translate(\"That politics , in retrospect , was rooted in a false ideology\")"
   ]
  },
  {
   "cell_type": "code",
   "execution_count": 30,
   "id": "automated-necessity",
   "metadata": {
    "execution": {
     "iopub.execute_input": "2021-06-11T11:59:05.658789Z",
     "iopub.status.busy": "2021-06-11T11:59:05.657785Z",
     "iopub.status.idle": "2021-06-11T11:59:06.919426Z",
     "shell.execute_reply": "2021-06-11T11:59:06.918792Z"
    },
    "papermill": {
     "duration": 1.312778,
     "end_time": "2021-06-11T11:59:06.919627",
     "exception": false,
     "start_time": "2021-06-11T11:59:05.606849",
     "status": "completed"
    },
    "tags": []
   },
   "outputs": [
    {
     "data": {
      "text/plain": [
       "'इस बारे में देखें कि'"
      ]
     },
     "execution_count": 30,
     "metadata": {},
     "output_type": "execute_result"
    }
   ],
   "source": [
    "translate(\"Let's see if the model can understand this\")"
   ]
  }
 ],
 "metadata": {
  "kernelspec": {
   "display_name": "Python 3 (ipykernel)",
   "language": "python",
   "name": "python3"
  },
  "language_info": {
   "codemirror_mode": {
    "name": "ipython",
    "version": 3
   },
   "file_extension": ".py",
   "mimetype": "text/x-python",
   "name": "python",
   "nbconvert_exporter": "python",
   "pygments_lexer": "ipython3",
   "version": "3.9.12"
  },
  "papermill": {
   "default_parameters": {},
   "duration": 3004.709237,
   "end_time": "2021-06-11T11:59:09.202942",
   "environment_variables": {},
   "exception": null,
   "input_path": "__notebook__.ipynb",
   "output_path": "__notebook__.ipynb",
   "parameters": {},
   "start_time": "2021-06-11T11:09:04.493705",
   "version": "2.3.3"
  }
 },
 "nbformat": 4,
 "nbformat_minor": 5
}
